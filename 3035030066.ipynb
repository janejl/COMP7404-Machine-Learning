{
  "nbformat": 4,
  "nbformat_minor": 0,
  "metadata": {
    "anaconda-cloud": {},
    "celltoolbar": "Slideshow",
    "kernelspec": {
      "display_name": "Python 3",
      "language": "python",
      "name": "python3"
    },
    "language_info": {
      "codemirror_mode": {
        "name": "ipython",
        "version": 3
      },
      "file_extension": ".py",
      "mimetype": "text/x-python",
      "name": "python",
      "nbconvert_exporter": "python",
      "pygments_lexer": "ipython3",
      "version": "3.6.8"
    },
    "colab": {
      "name": "Copy of Assignment 3.ipynb",
      "provenance": [],
      "collapsed_sections": []
    }
  },
  "cells": [
    {
      "cell_type": "markdown",
      "metadata": {
        "id": "LH9qNUL2I8NZ",
        "colab_type": "text"
      },
      "source": [
        "# COMP7404 Assignment 3 - Basic Classifiers\n",
        "\n",
        "In this assignment you will implement the basic classifiers discussed in class. This assignment is based on work by Li-Yi Wei et al. and our textbook Python Machine Learning (2nd Edition)."
      ]
    },
    {
      "cell_type": "markdown",
      "metadata": {
        "id": "fYPIrqAOUGnn",
        "colab_type": "text"
      },
      "source": [
        "#Submission\n",
        "\n",
        "Submit a single uid.ipynb file to moodle before the deadline. Ensure your file can be executed on Google Colab."
      ]
    },
    {
      "cell_type": "markdown",
      "metadata": {
        "id": "koajymTPI8Ne",
        "colab_type": "text"
      },
      "source": [
        "# Hand-written Digit Classification\n",
        "\n",
        "In class we applied different scikit-learn classifers for the Iris data set.\n",
        "\n",
        "In this assignment, we will apply the same set of classifiers over a different data set: hand-written digits.\n",
        "Please write down the code for different classifiers, choose their hyper-parameters using a validation set, and compare their performance via an accuracy score on a test set.\n",
        "Add sections for a discussions of results. Which classifier(s) perform(s) the best and worst, and why? \n",
        "\n",
        "The classifiers include:\n",
        "* perceptron\n",
        "* logistic regression\n",
        "* SVM\n",
        "* decision tree\n",
        "* random forest\n",
        "* KNN\n",
        "\n",
        "The dataset is available as part of scikit learn, as follows."
      ]
    },
    {
      "cell_type": "markdown",
      "metadata": {
        "id": "sNJpWgseI8Nh",
        "colab_type": "text"
      },
      "source": [
        "## Load data"
      ]
    },
    {
      "cell_type": "code",
      "metadata": {
        "id": "LA3pkly9I8Ni",
        "colab_type": "code",
        "outputId": "c3fbec42-4089-49a7-82a4-a9e0bb82f05f",
        "colab": {
          "base_uri": "https://localhost:8080/",
          "height": 52
        }
      },
      "source": [
        "from sklearn.datasets import load_digits\n",
        "digits = load_digits()\n",
        "\n",
        "X = digits.data # training data\n",
        "y = digits.target # training label\n",
        "\n",
        "print(X.shape)\n",
        "print(y.shape)"
      ],
      "execution_count": 1,
      "outputs": [
        {
          "output_type": "stream",
          "text": [
            "(1797, 64)\n",
            "(1797,)\n"
          ],
          "name": "stdout"
        }
      ]
    },
    {
      "cell_type": "markdown",
      "metadata": {
        "id": "wu9F-rUbI8Nr",
        "colab_type": "text"
      },
      "source": [
        "## Visualize data"
      ]
    },
    {
      "cell_type": "code",
      "metadata": {
        "id": "b9wxKaA1I8Ns",
        "colab_type": "code",
        "outputId": "f57366a6-cb38-484d-b407-be9cda4a2115",
        "colab": {
          "base_uri": "https://localhost:8080/",
          "height": 602
        }
      },
      "source": [
        "import matplotlib.pyplot as plt\n",
        "import pylab as pl\n",
        "import matplotlib as mpl\n",
        "mpl.rcParams['figure.dpi'] = 150\n",
        "num_rows = 4\n",
        "num_cols = 5\n",
        "fig, ax = plt.subplots(nrows=num_rows, ncols=num_cols, sharex=True, sharey=True)\n",
        "ax = ax.flatten()\n",
        "for index in range(num_rows*num_cols):\n",
        "    img = digits.images[index]\n",
        "    label = digits.target[index]\n",
        "    ax[index].imshow(img, cmap='Greys', interpolation='nearest')\n",
        "    ax[index].set_title('digit ' + str(label))\n",
        "ax[0].set_xticks([])\n",
        "ax[0].set_yticks([])\n",
        "plt.tight_layout()\n",
        "plt.show()"
      ],
      "execution_count": 2,
      "outputs": [
        {
          "output_type": "display_data",
          "data": {
            "image/png": "[encoded data removed]",
            "text/plain": [
              "<Figure size 900x600 with 20 Axes>"
            ]
          },
          "metadata": {
            "tags": []
          }
        }
      ]
    },
    {
      "cell_type": "markdown",
      "metadata": {
        "id": "DIvIK28tI8Nx",
        "colab_type": "text"
      },
      "source": [
        "## Date Preprocessing\n",
        "Hint: Divide training and test data set and apply other techinques we have learned if needed."
      ]
    },
    {
      "cell_type": "code",
      "metadata": {
        "id": "CEcb7qAlI8Ny",
        "colab_type": "code",
        "outputId": "cf250e4b-1f98-4c57-fd9e-a34a67bd4767",
        "colab": {
          "base_uri": "https://localhost:8080/",
          "height": 34
        }
      },
      "source": [
        "#Your code comes here\n",
        "from sklearn.model_selection import train_test_split\n",
        "from sklearn.preprocessing import StandardScaler\n",
        "\n",
        "X_train, X_test, y_train, y_test = train_test_split(X, y, test_size=0.3, random_state=1, stratify=y)\n",
        "print(y_test.shape, y_train.shape)\n",
        "\n",
        "sc = StandardScaler()\n",
        "sc.fit(X_train)\n",
        "X_train_std = sc.transform(X_train)\n",
        "X_test_std = sc.transform(X_test)"
      ],
      "execution_count": 3,
      "outputs": [
        {
          "output_type": "stream",
          "text": [
            "(540,) (1257,)\n"
          ],
          "name": "stdout"
        }
      ]
    },
    {
      "cell_type": "markdown",
      "metadata": {
        "id": "B8Dx5NsUI8N0",
        "colab_type": "text"
      },
      "source": [
        "## Classifier #1 Perceptron"
      ]
    },
    {
      "cell_type": "code",
      "metadata": {
        "id": "pDDmTdERI8N1",
        "colab_type": "code",
        "outputId": "db7be4c9-a306-4996-ea7b-1e56cdadd1b7",
        "colab": {
          "base_uri": "https://localhost:8080/",
          "height": 52
        }
      },
      "source": [
        "#Your code, including traing and testing, to observe the accuracies.\n",
        "from sklearn.linear_model import Perceptron\n",
        "\n",
        "ppn = Perceptron(max_iter=50, tol=1e-3, eta0=0.01)\n",
        "ppn.fit(X_train_std, y_train)\n",
        "\n",
        "print('Train Accuracy: %.2f' % ppn.score(X_train_std, y_train))\n",
        "print('Test Accuracy: %.2f' % ppn.score(X_test_std, y_test))"
      ],
      "execution_count": 4,
      "outputs": [
        {
          "output_type": "stream",
          "text": [
            "Train Accuracy: 0.97\n",
            "Test Accuracy: 0.94\n"
          ],
          "name": "stdout"
        }
      ]
    },
    {
      "cell_type": "markdown",
      "metadata": {
        "id": "bC3H02a7I8N3",
        "colab_type": "text"
      },
      "source": [
        "## Classifier #2 Logistic Regression"
      ]
    },
    {
      "cell_type": "code",
      "metadata": {
        "id": "uM8rtjbNI8N3",
        "colab_type": "code",
        "outputId": "5f78d179-ed71-4549-fd99-4e008f274387",
        "colab": {
          "base_uri": "https://localhost:8080/",
          "height": 52
        }
      },
      "source": [
        "#Your code, including traing and testing, to observe the accuracies.\n",
        "from sklearn.linear_model import LogisticRegression\n",
        "\n",
        "lr = LogisticRegression(C=100.0, solver='liblinear', multi_class='ovr')\n",
        "lr.fit(X_train_std, y_train)\n",
        "\n",
        "print('Train Accuracy: %.2f' % lr.score(X_train_std, y_train))\n",
        "print('Test Accuracy: %.2f' % lr.score(X_test_std, y_test))"
      ],
      "execution_count": 5,
      "outputs": [
        {
          "output_type": "stream",
          "text": [
            "Train Accuracy: 1.00\n",
            "Test Accuracy: 0.96\n"
          ],
          "name": "stdout"
        }
      ]
    },
    {
      "cell_type": "markdown",
      "metadata": {
        "id": "7YvA-i07I8N5",
        "colab_type": "text"
      },
      "source": [
        "## Classifier #3 SVM"
      ]
    },
    {
      "cell_type": "code",
      "metadata": {
        "id": "N2Zu5FKeI8N5",
        "colab_type": "code",
        "colab": {
          "base_uri": "https://localhost:8080/",
          "height": 52
        },
        "outputId": "8b634281-2c75-4b23-dbb4-3285f25fedf9"
      },
      "source": [
        "#Your code, including traing and testing, to observe the accuracies.\n",
        "from sklearn.svm import SVC\n",
        "\n",
        "svm = SVC(kernel='rbf', C=1, random_state=1, gamma=0.02)\n",
        "svm.fit(X_train_std, y_train)\n",
        "\n",
        "print('Train Accuracy: %.2f' % svm.score(X_train_std, y_train))\n",
        "print('Test Accuracy: %.2f' % svm.score(X_test_std, y_test))"
      ],
      "execution_count": 6,
      "outputs": [
        {
          "output_type": "stream",
          "text": [
            "Train Accuracy: 1.00\n",
            "Test Accuracy: 0.99\n"
          ],
          "name": "stdout"
        }
      ]
    },
    {
      "cell_type": "markdown",
      "metadata": {
        "id": "ryVEk-CYI8N6",
        "colab_type": "text"
      },
      "source": [
        "## Classifier #4 Decision Tree"
      ]
    },
    {
      "cell_type": "code",
      "metadata": {
        "id": "qbJICxnZI8N7",
        "colab_type": "code",
        "colab": {
          "base_uri": "https://localhost:8080/",
          "height": 52
        },
        "outputId": "39b9088f-ec4e-4852-c4c2-8f42f407846f"
      },
      "source": [
        "#Your code, including traing and testing, to observe the accuracies.\n",
        "from sklearn.tree import DecisionTreeClassifier\n",
        "\n",
        "tree = DecisionTreeClassifier(criterion='gini', max_depth=8, random_state=1)\n",
        "tree.fit(X_train, y_train)\n",
        "\n",
        "print('Train Accuracy: %.2f' % tree.score(X_train, y_train))\n",
        "print('Test Accuracy: %.2f' % tree.score(X_test, y_test))"
      ],
      "execution_count": 7,
      "outputs": [
        {
          "output_type": "stream",
          "text": [
            "Train Accuracy: 0.94\n",
            "Test Accuracy: 0.84\n"
          ],
          "name": "stdout"
        }
      ]
    },
    {
      "cell_type": "markdown",
      "metadata": {
        "id": "LjgN9gf5I8N8",
        "colab_type": "text"
      },
      "source": [
        "## Classifer #5 Random Forest"
      ]
    },
    {
      "cell_type": "code",
      "metadata": {
        "id": "uNY8WJ0CI8N8",
        "colab_type": "code",
        "colab": {
          "base_uri": "https://localhost:8080/",
          "height": 52
        },
        "outputId": "38783454-657d-46fa-87be-f069abfb1763"
      },
      "source": [
        "#Your code, including traing and testing, to observe the accuracies.\n",
        "from sklearn.ensemble import RandomForestClassifier\n",
        "\n",
        "forest = RandomForestClassifier(criterion='gini', n_estimators=30, random_state=1, n_jobs=2)\n",
        "forest.fit(X_train, y_train)\n",
        "\n",
        "print('Train Accuracy: %.2f' % forest.score(X_train, y_train))\n",
        "print('Test Accuracy: %.2f' % forest.score(X_test, y_test))"
      ],
      "execution_count": 8,
      "outputs": [
        {
          "output_type": "stream",
          "text": [
            "Train Accuracy: 1.00\n",
            "Test Accuracy: 0.97\n"
          ],
          "name": "stdout"
        }
      ]
    },
    {
      "cell_type": "markdown",
      "metadata": {
        "id": "Q28gveAyI8N9",
        "colab_type": "text"
      },
      "source": [
        "## Classifier #6 KNN"
      ]
    },
    {
      "cell_type": "code",
      "metadata": {
        "id": "9_ZBuV_3I8N9",
        "colab_type": "code",
        "colab": {
          "base_uri": "https://localhost:8080/",
          "height": 52
        },
        "outputId": "26e82958-a8ef-42eb-b297-95cf11fce0e4"
      },
      "source": [
        "#Your code, including traing and testing, to observe the accuracies.\n",
        "from sklearn.neighbors import KNeighborsClassifier\n",
        "\n",
        "knn = KNeighborsClassifier(n_neighbors=5, p=2, metric='minkowski')\n",
        "knn.fit(X_train_std, y_train)\n",
        "\n",
        "print('Train Accuracy: %.2f' % knn.score(X_train_std, y_train))\n",
        "print('Test Accuracy: %.2f' % knn.score(X_test_std, y_test))"
      ],
      "execution_count": 9,
      "outputs": [
        {
          "output_type": "stream",
          "text": [
            "Train Accuracy: 0.98\n",
            "Test Accuracy: 0.99\n"
          ],
          "name": "stdout"
        }
      ]
    },
    {
      "cell_type": "markdown",
      "metadata": {
        "id": "QBK80L7am-uB",
        "colab_type": "text"
      },
      "source": [
        "# Discussion\n",
        "**SVM** performs best, **Decision Tree** performs worst. \n",
        "\n",
        "Our data have 64 dimensions. SVM performs quite well in high dimensional space, and we can even make decision boundary tighter with gamma and change kernel to better fit the classification problem. \n",
        "\n",
        "While for Decision Tree, when tree goes deeper, the decision boundary will be more complex, which can easily result to overfitting. The best maximal depth for DT is 8 while the testing accuracy is 10% lower than training, which indicates overfitting.\n"
      ]
    },
    {
      "cell_type": "code",
      "metadata": {
        "id": "QfvVCOmA4mg1",
        "colab_type": "code",
        "colab": {
          "base_uri": "https://localhost:8080/",
          "height": 534
        },
        "outputId": "4d3ec70c-f43a-4a6f-da96-a2da2923db2e"
      },
      "source": [
        "import matplotlib.pyplot as plt\n",
        "import pandas as pd\n",
        "\n",
        "scores = [\n",
        "  {'method': 'pnn', 'train': ppn.score(X_train_std, y_train), 'test': ppn.score(X_test_std, y_test)},\n",
        "  {'method': 'lr', 'train': lr.score(X_train_std, y_train), 'test': lr.score(X_test_std, y_test)},\n",
        "  {'method': 'svm', 'train': svm.score(X_train_std, y_train), 'test': svm.score(X_test_std, y_test)},\n",
        "  {'method': 'knn', 'train': knn.score(X_train_std, y_train), 'test': knn.score(X_test_std, y_test)},\n",
        "  {'method': 'tree', 'train': tree.score(X_train, y_train), 'test': tree.score(X_test, y_test)},\n",
        "  {'method': 'forest', 'train': forest.score(X_train, y_train), 'test': forest.score(X_test, y_test)},\n",
        "]\n",
        "\n",
        "df = pd.DataFrame(scores).sort_values(by='test')\n",
        "\n",
        "plt.plot(df['method'], df['train'], label='train')\n",
        "plt.plot(df['method'], df['test'], label='test')\n",
        "plt.legend(loc='lower right')\n",
        "plt.show()"
      ],
      "execution_count": 11,
      "outputs": [
        {
          "output_type": "display_data",
          "data": {
            "image/png": "[encoded data removed]",
            "text/plain": [
              "<Figure size 900x600 with 1 Axes>"
            ]
          },
          "metadata": {
            "tags": []
          }
        }
      ]
    }
  ]
}